{
 "cells": [
  {
   "cell_type": "markdown",
   "metadata": {},
   "source": [
    "### TEST DETR 10 EPOCH"
   ]
  },
  {
   "cell_type": "code",
   "execution_count": 1,
   "metadata": {},
   "outputs": [],
   "source": [
    "from transformers import DetrImageProcessor, DetrForObjectDetection\n",
    "import torch\n",
    "import cv2\n",
    "import os"
   ]
  },
  {
   "cell_type": "code",
   "execution_count": 2,
   "metadata": {},
   "outputs": [
    {
     "name": "stdout",
     "output_type": "stream",
     "text": [
      "Done!\n"
     ]
    }
   ],
   "source": [
    "model = DetrForObjectDetection.from_pretrained(\"Komet/my-fruit-detection-3\", ignore_mismatched_sizes=True)\n",
    "device = torch.device(\"cuda\" if torch.cuda.is_available() else \"cpu\")\n",
    "model.to(device)\n",
    "processor = DetrImageProcessor.from_pretrained(\"Komet/my-fruit-detection-3\", ignore_mismatched_sizes=True)\n",
    "print('Done!')"
   ]
  },
  {
   "cell_type": "code",
   "execution_count": 3,
   "metadata": {},
   "outputs": [],
   "source": [
    "import matplotlib.pyplot as plt\n",
    "\n",
    "# colors for visualization\n",
    "COLORS = [[0.000, 0.447, 0.741], [0.850, 0.325, 0.098], [0.929, 0.694, 0.125]]\n",
    "\n",
    "def plot_results(pil_img, scores, labels, boxes):\n",
    "\n",
    "    # Define the label-to-class mapping\n",
    "    label2class = {\n",
    "        1: \"apple\",\n",
    "        2: \"banana\",\n",
    "        3: \"orange\"\n",
    "    }\n",
    "    plt.figure(figsize=(16,10))\n",
    "    plt.imshow(pil_img)\n",
    "    ax = plt.gca()\n",
    "    colors = COLORS * 100\n",
    "    for score, label, (xmin, ymin, xmax, ymax),c  in zip(scores.tolist(), labels.tolist(), boxes.tolist(), colors):\n",
    "        ax.add_patch(plt.Rectangle((xmin, ymin), xmax - xmin, ymax - ymin,\n",
    "                                   fill=False, color=c, linewidth=3))\n",
    "        class_name = label2class.get(label, f'Class {label}')\n",
    "        print(class_name)\n",
    "        text = f'{class_name}: {score:0.2f}'\n",
    "        ax.text(xmin, ymin, text, fontsize=15,\n",
    "                bbox=dict(facecolor='yellow', alpha=0.5))\n",
    "    plt.axis('off')\n",
    "    plt.show()"
   ]
  },
  {
   "cell_type": "code",
   "execution_count": 6,
   "metadata": {},
   "outputs": [],
   "source": [
    "# Define the path to the image you want to test\n",
    "image_folder = \"../pic/\"  # Replace with the actual path to your image folder\n",
    "\n",
    "for filename in os.listdir(image_folder):\n",
    "    if filename.endswith(\".png\"):\n",
    "        # Construct the full path to the image\n",
    "        image_path = os.path.join(image_folder, filename)\n",
    "\n",
    "        # Load the image\n",
    "        image = cv2.imread(image_path)\n",
    "        image = cv2.cvtColor(image, cv2.COLOR_BGR2RGB)\n",
    "        image = cv2.resize(image, (640, 480))\n",
    "\n",
    "        # Annotate detections\n",
    "        with torch.no_grad():\n",
    "            # Load image and predict\n",
    "            inputs = processor(images=image, return_tensors='pt').to(device)\n",
    "            outputs = model(**inputs)\n",
    "\n",
    "            # Post-process\n",
    "            width, height = 640, 480\n",
    "            postprocessed_outputs = processor.post_process_object_detection(outputs,\n",
    "                                                                         target_sizes=[(height, width)],\n",
    "                                                                         threshold=0.8)\n",
    "\n",
    "        results = postprocessed_outputs[0]\n",
    "        plot_results(image, results['scores'], results['labels'], results['boxes'])"
   ]
  }
 ],
 "metadata": {
  "kernelspec": {
   "display_name": "detr_test",
   "language": "python",
   "name": "python3"
  },
  "language_info": {
   "codemirror_mode": {
    "name": "ipython",
    "version": 3
   },
   "file_extension": ".py",
   "mimetype": "text/x-python",
   "name": "python",
   "nbconvert_exporter": "python",
   "pygments_lexer": "ipython3",
   "version": "3.10.8"
  }
 },
 "nbformat": 4,
 "nbformat_minor": 2
}
